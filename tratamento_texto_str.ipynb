{
  "nbformat": 4,
  "nbformat_minor": 0,
  "metadata": {
    "colab": {
      "provenance": []
    },
    "kernelspec": {
      "name": "python3",
      "display_name": "Python 3"
    },
    "language_info": {
      "name": "python"
    }
  },
  "cells": [
    {
      "cell_type": "code",
      "execution_count": null,
      "metadata": {
        "colab": {
          "base_uri": "https://localhost:8080/"
        },
        "id": "NcvUGQEjWqCv",
        "outputId": "fa03b8b7-faab-4431-da8f-14902430dba7"
      },
      "outputs": [
        {
          "output_type": "stream",
          "name": "stdout",
          "text": [
            "abater 1 frango\n",
            "\n",
            "tr3s pratos de trig0\n",
            "\n",
            "v1ver a vida\n",
            "\n",
            "abater1frango\n",
            "\n",
            "tr3spratosdetrig0\n",
            "\n",
            "v1veravida\n",
            "\n",
            "abaterfrango\n",
            "\n",
            "trspratosdetrig\n",
            "\n",
            "vveravida\n",
            "\n"
          ]
        }
      ],
      "source": [
        "class LimpaListaTextos:\n",
        "  def __init__(self, lista_de_textos):\n",
        "    self.lista = lista_de_textos\n",
        "\n",
        "  def converte_minusculo(self):\n",
        "    self.lista = [frase.lower() for frase in self.lista]\n",
        "    return self\n",
        "\n",
        "  def remove_espacos(self):\n",
        "    \"\"\"\n",
        "    Método que remove TODOS os espaços em branco dos textos armazenados na lista,\n",
        "    incluindo espaços entre palavras, no início e no final.\n",
        "\n",
        "    Retorna:\n",
        "        self: A própria instância da classe para permitir method chaining\n",
        "    \"\"\"\n",
        "\n",
        "    # Cria uma nova lista processada a partir da lista original (self.lista)\n",
        "    # utilizando list comprehension para eficiência:\n",
        "    self.lista = [\n",
        "        # Para cada texto na lista original:\n",
        "        texto.replace(\" \", \"\")  # Remove todos os espaços (\" \") substituindo por vazio (\"\")\n",
        "        for texto in self.lista  # Itera sobre cada elemento de self.lista\n",
        "    ]\n",
        "\n",
        "    # Retorna a própria instância (self) para permitir encadeamento de métodos:\n",
        "    # Ex: objeto.remove_espacos().remove_numeros()\n",
        "    return self\n",
        "\n",
        "  def remove_numeros(self):\n",
        "     self.lista = [''.join([caractere for caractere in frase if not caractere.isdigit()]) for frase in self.lista]\n",
        "     return self\n",
        "\n",
        "frases = [\"abater 1 frango\", \"tr3s pratos de trig0\", \"V1ver a vida\"]\n",
        "\n",
        "limpa_frase = LimpaListaTextos(frases)\n",
        "\n",
        "for item in limpa_frase.converte_minusculo().lista:\n",
        "  print(f\"{item}\\n\")\n",
        "\n",
        "for item in limpa_frase.remove_espacos().lista:\n",
        "  print(f\"{item}\\n\")\n",
        "\n",
        "for item in limpa_frase.remove_numeros().lista:\n",
        "  print(f\"{item}\\n\")"
      ]
    },
    {
      "cell_type": "code",
      "source": [
        "unittest.main(argv=[''], exit=False)"
      ],
      "metadata": {
        "colab": {
          "base_uri": "https://localhost:8080/"
        },
        "id": "RIMgmLFojEkf",
        "outputId": "efd017e2-13af-436a-dad7-3235eabf90a6"
      },
      "execution_count": null,
      "outputs": [
        {
          "output_type": "stream",
          "name": "stderr",
          "text": [
            "F\n",
            "======================================================================\n",
            "FAIL: test_converte_minusculo (__main__.TestClass.test_converte_minusculo)\n",
            "----------------------------------------------------------------------\n",
            "Traceback (most recent call last):\n",
            "  File \"<ipython-input-26-496965760>\", line 5, in test_converte_minusculo\n",
            "    assert limpa_frase.converte_minusculo().lista == [frase.lower() for frase in frases]\n",
            "           ^^^^^^^^^^^^^^^^^^^^^^^^^^^^^^^^^^^^^^^^^^^^^^^^^^^^^^^^^^^^^^^^^^^^^^^^^^^^^\n",
            "AssertionError\n",
            "\n",
            "----------------------------------------------------------------------\n",
            "Ran 1 test in 0.003s\n",
            "\n",
            "FAILED (failures=1)\n"
          ]
        },
        {
          "output_type": "execute_result",
          "data": {
            "text/plain": [
              "<unittest.main.TestProgram at 0x7d9a54ce2f10>"
            ]
          },
          "metadata": {},
          "execution_count": 27
        }
      ]
    },
    {
      "cell_type": "code",
      "source": [
        "import unittest\n",
        "\n",
        "class TestClass(unittest.TestCase):\n",
        "  def test_converte_minusculo(self):\n",
        "    assert limpa_frase.converte_minusculo().lista == [frase.lower() for frase in frases]\n",
        "\n",
        "print([frase.lower() for frase in frases])\n",
        "print(limpa_frase.converte_minusculo().lista)"
      ],
      "metadata": {
        "colab": {
          "base_uri": "https://localhost:8080/"
        },
        "id": "4cyRuIXvj6Uf",
        "outputId": "d7efc031-256c-46a4-d18f-7b3223b4b049"
      },
      "execution_count": null,
      "outputs": [
        {
          "output_type": "stream",
          "name": "stdout",
          "text": [
            "['abater 1 frango', 'tr3s pratos de trig0', 'v1ver a vida']\n",
            "['abaterfrango', 'trspratosdetrig', 'vveravida']\n"
          ]
        }
      ]
    }
  ]
}